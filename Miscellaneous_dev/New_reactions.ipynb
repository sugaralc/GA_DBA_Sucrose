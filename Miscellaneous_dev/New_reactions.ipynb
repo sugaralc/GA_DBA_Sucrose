{
 "cells": [
  {
   "cell_type": "code",
   "execution_count": 3,
   "id": "a4587862-b416-440c-9289-b69d6a699db2",
   "metadata": {},
   "outputs": [],
   "source": [
    "from rdkit import Chem\n",
    "from rdkit.Chem import Draw\n",
    "from rdkit.Chem import AllChem\n",
    "from rdkit.Chem import Descriptors\n",
    "from rdkit.Chem import rdmolops\n",
    "from rdkit.Chem.Draw import IPythonConsole, MolsToGridImage\n",
    "from rdkit.Chem import rdDepictor\n",
    "from random import randrange\n",
    "\n",
    "#from rdkit import rdBase\n",
    "#rdBase.DisableLog('rdApp.error')\n",
    "from rdkit import RDLogger\n",
    "RDLogger.DisableLog('rdApp.*')\n",
    "\n",
    "import numpy as np\n",
    "import random\n",
    "import time\n",
    "import sys\n",
    "\n",
    "import crossover as co\n",
    "import mutate as mu\n",
    "import scoring_functions as sc\n",
    "import xyz2mol as x2m\n",
    "import os\n",
    "\n",
    "co.average_size = 110.15\n",
    "co.size_stdev = 3.50\n",
    "\n",
    "charged_fragments = True\n",
    "quick = True"
   ]
  },
  {
   "cell_type": "code",
   "execution_count": 5,
   "id": "47cb56df-3b96-451f-ac6d-6daf51e1fb16",
   "metadata": {},
   "outputs": [
    {
     "data": {
      "text/plain": [
       "['CCO']"
      ]
     },
     "execution_count": 5,
     "metadata": {},
     "output_type": "execute_result"
    }
   ],
   "source": [
    "rxn = AllChem.ReactionFromSmarts('[C:1]=[O,N:2]>>[C:1][*:2]')\n",
    "[Chem.MolToSmiles(x,1) for x in rxn.RunReactants((Chem.MolFromSmiles('CC=O'),))[0]]"
   ]
  },
  {
   "cell_type": "code",
   "execution_count": 6,
   "id": "bbce2752-d478-42f1-bc31-c3d0c82a1550",
   "metadata": {},
   "outputs": [
    {
     "data": {
      "text/plain": [
       "['CCN']"
      ]
     },
     "execution_count": 6,
     "metadata": {},
     "output_type": "execute_result"
    }
   ],
   "source": [
    "[Chem.MolToSmiles(x,1) for x in rxn.RunReactants((Chem.MolFromSmiles('CC=N'),))[0]]"
   ]
  }
 ],
 "metadata": {
  "kernelspec": {
   "display_name": "Python 3 (ipykernel)",
   "language": "python",
   "name": "python3"
  },
  "language_info": {
   "codemirror_mode": {
    "name": "ipython",
    "version": 3
   },
   "file_extension": ".py",
   "mimetype": "text/x-python",
   "name": "python",
   "nbconvert_exporter": "python",
   "pygments_lexer": "ipython3",
   "version": "3.10.13"
  }
 },
 "nbformat": 4,
 "nbformat_minor": 5
}
